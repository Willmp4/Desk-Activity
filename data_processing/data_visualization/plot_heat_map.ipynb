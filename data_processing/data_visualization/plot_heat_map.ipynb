{
 "cells": [
  {
   "cell_type": "code",
   "execution_count": 11,
   "metadata": {},
   "outputs": [
    {
     "data": {
      "image/png": "[encoded data removed]",
      "text/plain": [
       "<Figure size 1000x600 with 1 Axes>"
      ]
     },
     "metadata": {},
     "output_type": "display_data"
    }
   ],
   "source": [
    "import json\n",
    "import numpy as np\n",
    "import matplotlib.pyplot as plt\n",
    "\n",
    "def create_heatmap_from_gaze_data(json_data):\n",
    "    # Define screen dimensions (example dimensions, adjust as necessary)\n",
    "    screen_width = 1920\n",
    "    screen_height = 1080\n",
    "    \n",
    "    # Initialize a matrix to accumulate gaze points\n",
    "    heatmap_data = np.zeros((screen_height, screen_width))\n",
    "    \n",
    "    # Process each gaze event\n",
    "    for event in json_data:\n",
    "        if event['type'] == 'gaze_period' and 'start_position' in event['data'] and 'end_position' in event['data']:\n",
    "            start_pos = event['data']['start_position']\n",
    "            end_pos = event['data']['end_position']\n",
    "            \n",
    "            # Skip events with null positions\n",
    "            if None in start_pos or None in end_pos:\n",
    "                continue\n",
    "            \n",
    "            # Calculate average position (for simplicity) and update heatmap_data\n",
    "            avg_pos_x = int((start_pos[0] + end_pos[0]) / 2)\n",
    "            avg_pos_y = int((start_pos[1] + end_pos[1]) / 2)\n",
    "            \n",
    "            # Ensure the position is within the screen bounds\n",
    "            if 0 <= avg_pos_x < screen_width and 0 <= avg_pos_y < screen_height:\n",
    "                heatmap_data[avg_pos_y, avg_pos_x] += 1  # Increment density\n",
    "    \n",
    "    # Plot the heatmap\n",
    "    plt.figure(figsize=(10, 6))\n",
    "    #With big points\n",
    "    plt.imshow(heatmap_data, cmap='hot', interpolation='nearest')\n",
    "    plt.title('Gaze Heatmap')\n",
    "    plt.axis('off')  # Hide axes for better visualization\n",
    "    plt.show()\n",
    "\n",
    "# Example usage with your loaded JSON data\n",
    "json_data = json.load(open('../../focus_level/User/2024-04-05/activity_log.json'))\n",
    "create_heatmap_from_gaze_data(json_data)\n"
   ]
  }
 ],
 "metadata": {
  "kernelspec": {
   "display_name": "tracking_activity",
   "language": "python",
   "name": "python3"
  },
  "language_info": {
   "codemirror_mode": {
    "name": "ipython",
    "version": 3
   },
   "file_extension": ".py",
   "mimetype": "text/x-python",
   "name": "python",
   "nbconvert_exporter": "python",
   "pygments_lexer": "ipython3",
   "version": "3.11.2"
  }
 },
 "nbformat": 4,
 "nbformat_minor": 2
}
