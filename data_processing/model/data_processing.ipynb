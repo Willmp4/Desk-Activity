{
 "cells": [
  {
   "cell_type": "code",
   "execution_count": 4,
   "metadata": {},
   "outputs": [],
   "source": [
    "def split_sessions(data):\n",
    "    sessions = []\n",
    "    current_session = []\n",
    "    focus_level = None  # Initialize to None, will be updated with each focus level encountered\n",
    "    \n",
    "    for item in data:\n",
    "        if item['type'] == 'focus_level':\n",
    "            if current_session:  # Only proceed if there are events in the current session\n",
    "                sessions.append((current_session, item['data']['level']))\n",
    "            current_session = []  # Reset for the next sessionp\n",
    "        else:\n",
    "            # Accumulate events for the current session\n",
    "            current_session.append(item)\n",
    "    \n",
    "    # If the data ends without a focus_level item, use the last known focus level for remaining events\n",
    "    if current_session and focus_level is not None:\n",
    "        sessions.append((current_session, focus_level))\n",
    "    \n",
    "    # Split the sessions into x and y for direct mapping\n",
    "    x, y = zip(*sessions) if sessions else ([], [])\n",
    "    \n",
    "    return list(x), list(y)\n"
   ]
  },
  {
   "cell_type": "code",
   "execution_count": 1,
   "metadata": {},
   "outputs": [
    {
     "name": "stdout",
     "output_type": "stream",
     "text": [
      "Downloading User/2024-04-05/activity_log.json to ../../focus_level/User/2024-04-05/activity_log.json...\n",
      "Downloading User/2024-04-06/activity_log.json to ../../focus_level/User/2024-04-06/activity_log.json...\n",
      "Downloading wgoud/2024-03-26/activity_log.json to ../../focus_level/wgoud/2024-03-26/activity_log.json...\n",
      "Downloading wgoud/2024-03-29/activity_log.json to ../../focus_level/wgoud/2024-03-29/activity_log.json...\n",
      "Downloading wgoud/2024-04-12/activity_log.json to ../../focus_level/wgoud/2024-04-12/activity_log.json...\n",
      "Download complete.\n"
     ]
    }
   ],
   "source": [
    "import boto3\n",
    "import os\n",
    "\n",
    "# Initialize a session using Amazon S3\n",
    "s3 = boto3.resource('s3')\n",
    "\n",
    "# Define the bucket name\n",
    "bucket_name = 'desk-top-activity'\n",
    "\n",
    "# Define the base path within the S3 bucket (if you want to start from a specific directory)\n",
    "base_path = ''\n",
    "\n",
    "# Target directory where files will be downloaded\n",
    "target_dir = '../../focus_level/'  # Current directory. You can change this to a specific path.\n",
    "\n",
    "# Ensure the target directory exists\n",
    "if not os.path.exists(target_dir):\n",
    "    os.makedirs(target_dir)\n",
    "\n",
    "# Create a bucket object\n",
    "bucket = s3.Bucket(bucket_name)\n",
    "\n",
    "# Iterate over all objects in the bucket starting from the base path\n",
    "for obj in bucket.objects.filter(Prefix=base_path):\n",
    "    # Build the full local path for the downloaded file\n",
    "    local_file_path = os.path.join(target_dir, obj.key)\n",
    "    \n",
    "    # Ensure the directory exists\n",
    "    os.makedirs(os.path.dirname(local_file_path), exist_ok=True)\n",
    "    \n",
    "    # Download the file\n",
    "    print(f'Downloading {obj.key} to {local_file_path}...')\n",
    "    bucket.download_file(obj.key, local_file_path)\n",
    "\n",
    "print('Download complete.')\n"
   ]
  }
 ],
 "metadata": {
  "kernelspec": {
   "display_name": "Python 3",
   "language": "python",
   "name": "python3"
  },
  "language_info": {
   "codemirror_mode": {
    "name": "ipython",
    "version": 3
   },
   "file_extension": ".py",
   "mimetype": "text/x-python",
   "name": "python",
   "nbconvert_exporter": "python",
   "pygments_lexer": "ipython3",
   "version": "3.11.2"
  }
 },
 "nbformat": 4,
 "nbformat_minor": 2
}
