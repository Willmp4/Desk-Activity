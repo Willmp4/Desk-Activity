{
 "cells": [
  {
   "cell_type": "code",
   "execution_count": null,
   "metadata": {},
   "outputs": [],
   "source": [
    "import time\n",
    "import pygetwindow as gw\n",
    "import win32gui\n",
    "\n",
    "def get_active_window_title():\n",
    "    window = gw.getActiveWindow()\n",
    "    if window:  # Check if there is an active window\n",
    "        return window.title\n",
    "    else:\n",
    "        return None\n",
    "\n",
    "def log_active_window_periodically(interval=60):\n",
    "    \"\"\"Log the active window title every `interval` seconds.\"\"\"\n",
    "    while True:\n",
    "        active_window_title = get_active_window_title()\n",
    "        print(f\"{time.ctime()}: {active_window_title}\")\n",
    "        # Here, instead of printing, you can log the title to a file or database\n",
    "        time.sleep(interval)\n",
    "\n",
    "# Example usage\n",
    "log_active_window_periodically(15)  # Log every 15 seconds\n"
   ]
  }
 ],
 "metadata": {
  "language_info": {
   "name": "python"
  }
 },
 "nbformat": 4,
 "nbformat_minor": 2
}
