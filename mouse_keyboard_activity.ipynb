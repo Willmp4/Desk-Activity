{
 "cells": [
  {
   "cell_type": "code",
   "execution_count": null,
   "metadata": {},
   "outputs": [],
   "source": []
  },
  {
   "cell_type": "code",
   "execution_count": 1,
   "metadata": {},
   "outputs": [],
   "source": [
    "import time\n",
    "from pynput import keyboard, mouse\n",
    "from threading import Thread\n",
    "import tkinter as tk\n",
    "\n",
    "# Global variables to track activity\n",
    "last_key_press_time = time.time()\n",
    "last_mouse_click_time = time.time()\n",
    "\n",
    "def on_press(key):\n",
    "    global last_key_press_time\n",
    "    last_key_press_time = time.time()\n",
    "    with open('activity_log.txt', 'a') as f:\n",
    "        f.write(f'Key pressed at: {last_key_press_time}\\n')\n",
    "\n",
    "def on_click(x, y, button, pressed):\n",
    "    global last_mouse_click_time\n",
    "    if pressed:\n",
    "        last_mouse_click_time = time.time()\n",
    "        with open('activity_log.txt', 'a') as f:\n",
    "            f.write(f'Mouse clicked at: {last_mouse_click_time}\\n')\n",
    "\n",
    "def ask_focus_level():\n",
    "    while True:\n",
    "        time.sleep(15)  # Wait for 15 minutes\n",
    "        root = tk.Tk()\n",
    "        root.title(\"Focus Level\")\n",
    "        \n",
    "        def submit():\n",
    "            focus_level = scale.get()  # Get the focus level from the slider\n",
    "            with open('activity_log.txt', 'a') as f:\n",
    "                f.write(f'Focus level: {focus_level}\\n')\n",
    "            root.destroy()\n",
    "            \n",
    "        tk.Label(root, text=\"Rate your focus level:\").pack()\n",
    "        scale = tk.Scale(root, from_=0, to=10, orient='horizontal')\n",
    "        scale.pack()\n",
    "        tk.Button(root, text=\"Submit\", command=submit).pack()\n",
    "        \n",
    "        root.mainloop()\n",
    "\n",
    "# Start monitoring keyboard and mouse\n",
    "keyboard_listener = keyboard.Listener(on_press=on_press)\n",
    "mouse_listener = mouse.Listener(on_click=on_click)\n",
    "\n",
    "keyboard_listener.start()\n",
    "mouse_listener.start()\n",
    "\n",
    "# Start the focus level prompt in a separate thread\n",
    "focus_thread = Thread(target=ask_focus_level)\n",
    "focus_thread.start()\n",
    "\n",
    "keyboard_listener.join()   \n",
    "mouse_listener.join()\n",
    "focus_thread.join()"
   ]
  },
  {
   "cell_type": "code",
   "execution_count": 5,
   "metadata": {},
   "outputs": [
    {
     "name": "stdout",
     "output_type": "stream",
     "text": [
      "Collecting PyGetWindow==0.0.9Note: you may need to restart the kernel to use updated packages.\n"
     ]
    },
    {
     "name": "stderr",
     "output_type": "stream",
     "text": [
      "  DEPRECATION: PyRect is being installed using the legacy 'setup.py install' method, because it does not have a 'pyproject.toml' and the 'wheel' package is not installed. pip 23.1 will enforce this behaviour change. A possible replacement is to enable the '--use-pep517' option. Discussion can be found at https://github.com/pypa/pip/issues/8559\n",
      "  DEPRECATION: PyGetWindow is being installed using the legacy 'setup.py install' method, because it does not have a 'pyproject.toml' and the 'wheel' package is not installed. pip 23.1 will enforce this behaviour change. A possible replacement is to enable the '--use-pep517' option. Discussion can be found at https://github.com/pypa/pip/issues/8559\n",
      "\n",
      "[notice] A new release of pip available: 22.3.1 -> 24.0\n",
      "[notice] To update, run: python.exe -m pip install --upgrade pip\n"
     ]
    },
    {
     "name": "stdout",
     "output_type": "stream",
     "text": [
      "\n",
      "  Using cached PyGetWindow-0.0.9.tar.gz (9.7 kB)\n",
      "  Preparing metadata (setup.py): started\n",
      "  Preparing metadata (setup.py): finished with status 'done'\n",
      "Collecting pynput==1.7.6\n",
      "  Using cached pynput-1.7.6-py2.py3-none-any.whl (89 kB)\n",
      "Collecting PyRect==0.2.0\n",
      "  Using cached PyRect-0.2.0.tar.gz (17 kB)\n",
      "  Preparing metadata (setup.py): started\n",
      "  Preparing metadata (setup.py): finished with status 'done'\n",
      "Collecting python-xlib==0.33\n",
      "  Using cached python_xlib-0.33-py2.py3-none-any.whl (182 kB)\n",
      "Requirement already satisfied: six==1.16.0 in c:\\users\\wgoud\\onedrive\\desktop\\organise\\python files\\personal_projects\\year3_project\\desk-activity\\tracking_activity\\lib\\site-packages (from -r requirements.txt (line 5)) (1.16.0)\n",
      "Installing collected packages: PyRect, python-xlib, pynput, PyGetWindow\n",
      "  Running setup.py install for PyRect: started\n",
      "  Running setup.py install for PyRect: finished with status 'done'\n",
      "  Running setup.py install for PyGetWindow: started\n",
      "  Running setup.py install for PyGetWindow: finished with status 'done'\n",
      "Successfully installed PyGetWindow-0.0.9 PyRect-0.2.0 pynput-1.7.6 python-xlib-0.33\n"
     ]
    }
   ],
   "source": [
    "%pip install -r requirements.txt"
   ]
  }
 ],
 "metadata": {
  "kernelspec": {
   "display_name": "tracking_activity",
   "language": "python",
   "name": "python3"
  },
  "language_info": {
   "codemirror_mode": {
    "name": "ipython",
    "version": 3
   },
   "file_extension": ".py",
   "mimetype": "text/x-python",
   "name": "python",
   "nbconvert_exporter": "python",
   "pygments_lexer": "ipython3",
   "version": "3.11.2"
  }
 },
 "nbformat": 4,
 "nbformat_minor": 2
}
