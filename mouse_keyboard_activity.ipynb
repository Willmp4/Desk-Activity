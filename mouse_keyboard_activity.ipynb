{
 "cells": [
  {
   "cell_type": "code",
   "execution_count": 3,
   "metadata": {},
   "outputs": [],
   "source": [
    "import time\n",
    "from pynput import keyboard, mouse\n",
    "from threading import Thread, Event\n",
    "import tkinter as tk\n",
    "from datetime import datetime\n",
    "import json\n",
    "import boto3\n",
    "import getpass"
   ]
  },
  {
   "cell_type": "code",
   "execution_count": 4,
   "metadata": {},
   "outputs": [],
   "source": [
    "event_buffer = []\n",
    "focus_level_submitted = False\n",
    "monitoring_active = Event()\n",
    "monitoring_active.set()"
   ]
  },
  {
   "cell_type": "code",
   "execution_count": 2,
   "metadata": {},
   "outputs": [],
   "source": [
    "\n",
    "def log_event(event_type, data):\n",
    "    global event_buffer\n",
    "    event = {\n",
    "        \"timestamp\": datetime.now().isoformat(),\n",
    "        \"type\": event_type,\n",
    "        \"data\": data\n",
    "    }\n",
    "    event_buffer.append(event)\n",
    "\n",
    "def write_events_to_buffer():\n",
    "    global focus_level_submitted\n",
    "    if event_buffer and focus_level_submitted:  # Only write to buffer if focus level has been submitted\n",
    "        filename = f'action_log_{datetime.now().isoformat().replace(\":\", \"-\")}.json'\n",
    "        with open(filename, 'w') as f:\n",
    "            json.dump(event_buffer, f)\n",
    "\n",
    "def on_press(key):\n",
    "    if not monitoring_active.is_set():\n",
    "        return False\n",
    "    try:\n",
    "        key_char = key.char  # Try to access the character of the key pressed\n",
    "    except AttributeError:\n",
    "        key_char = str(key)  # If it's a special key, convert the key object to string\n",
    "    log_event(\"key_press\", {'key': key_char})\n",
    "\n",
    "def on_click(x, y, button, pressed):\n",
    "    if not monitoring_active.is_set() or not pressed:\n",
    "        return False\n",
    "    if pressed:\n",
    "        log_event('mouse_event', {'position': (x,y), 'button': str(button)})\n",
    "\n",
    "def submit(focus_level):\n",
    "    log_event('focus_level', {'level': focus_level})"
   ]
  },
  {
   "cell_type": "code",
   "execution_count": 10,
   "metadata": {},
   "outputs": [],
   "source": [
    "user_id = getpass.getuser()\n",
    "s3_client = boto3.client('s3')\n",
    "bucket_name = 'desk-top-activity'\n",
    "\n",
    "def upload_data_to_s3(data, user_id):\n",
    "    \"\"\"Upload the event data to S3 under the user's directory.\"\"\"\n",
    "    now = datetime.now()\n",
    "    print(now)\n",
    "    date_str = now.strftime(\"%Y-%m-%d\")\n",
    "    timestamp_str = now.strftime(\"%Y%m%d%H%M%S\")\n",
    "    key = f\"{user_id}/{date_str}/activity_log_{timestamp_str}.json\"\n",
    "    \n",
    "    try:\n",
    "        response = s3_client.put_object(Bucket=bucket_name, Key=key, Body=json.dumps(data))\n",
    "        print(f\"Data uploaded successfully to {bucket_name}/{key}\")\n",
    "    except Exception as e:\n",
    "        print(f\"Failed to upload data to S3: {e}\")\n",
    "\n",
    "def write_events_to_buffer_and_upload():\n",
    "    \"\"\"Serialize the buffer to JSON and upload to S3.\"\"\"\n",
    "    global event_buffer\n",
    "    if event_buffer:\n",
    "        print(f\"Uploading {len(event_buffer)} events to S3\")\n",
    "        upload_data_to_s3(event_buffer, user_id)\n",
    "        event_buffer.clear()  # Clear the buffer after upload"
   ]
  },
  {
   "cell_type": "code",
   "execution_count": 11,
   "metadata": {},
   "outputs": [],
   "source": [
    "def ask_focus_level():\n",
    "    global focus_level_submitted  # Use global instead of nonlocal\n",
    "    while True:\n",
    "        time.sleep(15)  # Consider adjusting or removing this for testing\n",
    "        focus_level_submitted = False  # Reset the flag each time asking for focus level\n",
    "        root = tk.Tk()\n",
    "        root.title(\"Focus Level\")\n",
    "\n",
    "        def submit():\n",
    "            global focus_level_submitted  # Corrected to global\n",
    "            focus_level = scale.get()  # Get the focus level from the slider\n",
    "            log_event('focus_level', {'level': focus_level})\n",
    "            focus_level_submitted = True  # Set the flag to True after submission\n",
    "            root.destroy()\n",
    "            write_events_to_buffer_and_upload() \n",
    "        tk.Label(root, text=\"Rate your focus level:\").pack()\n",
    "        scale = tk.Scale(root, from_=0, to=10, orient='horizontal')\n",
    "        scale.pack()\n",
    "        tk.Button(root, text=\"Submit\", command=submit).pack()\n",
    "\n",
    "        root.mainloop()\n"
   ]
  },
  {
   "cell_type": "code",
   "execution_count": 12,
   "metadata": {},
   "outputs": [
    {
     "name": "stdout",
     "output_type": "stream",
     "text": [
      "Uploading 86 events to S3\n",
      "2024-03-04 14:12:08.587777\n",
      "Data uploaded successfully to desk-top-activity/wgoud/2024-03-04/activity_log_20240304141208.json\n"
     ]
    }
   ],
   "source": [
    "def start_monitoring():\n",
    "    global monitoring_active\n",
    "    monitoring_active.set()\n",
    "    keyboard_listener = keyboard.Listener(on_press=on_press)\n",
    "    mouse_listener = mouse.Listener(on_click=on_click)\n",
    "    keyboard_listener.start()\n",
    "    mouse_listener.start()\n",
    "    focus_thread = Thread(target=ask_focus_level)\n",
    "    focus_thread.start()\n",
    "    write_thread = Thread(target=write_events_to_buffer_and_upload)\n",
    "    write_thread.start()\n",
    "    \n",
    "def main_gui():\n",
    "    root = tk.Tk()\n",
    "    root.title(\"Activity Monitor\")\n",
    "    start_button = tk.Button(root, text=\"Start Monitoring\", command=start_monitoring)\n",
    "    start_button.pack()\n",
    "    root.mainloop()\n",
    "\n",
    "main_gui()"
   ]
  }
 ],
 "metadata": {
  "kernelspec": {
   "display_name": "tracking_activity",
   "language": "python",
   "name": "python3"
  },
  "language_info": {
   "codemirror_mode": {
    "name": "ipython",
    "version": 3
   },
   "file_extension": ".py",
   "mimetype": "text/x-python",
   "name": "python",
   "nbconvert_exporter": "python",
   "pygments_lexer": "ipython3",
   "version": "3.11.2"
  }
 },
 "nbformat": 4,
 "nbformat_minor": 2
}
