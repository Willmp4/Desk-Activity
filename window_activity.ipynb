{
 "cells": [
  {
   "cell_type": "code",
   "execution_count": null,
   "metadata": {},
   "outputs": [],
   "source": [
    "import time\n",
    "import pygetwindow as gw\n",
    "import win32gui\n",
    "\n",
    "def get_active_window_title():\n",
    "    window = gw.getActiveWindow()\n",
    "    if window:  # Check if there is an active window\n",
    "        return window.title\n",
    "    else:\n",
    "        return None\n",
    "\n",
    "def log_active_window_periodically(interval=60):\n",
    "    \"\"\"Log the active window title every `interval` seconds.\"\"\"\n",
    "    while True:\n",
    "        active_window_title = get_active_window_title()\n",
    "        print(f\"{time.ctime()}: {active_window_title}\")\n",
    "        # Here, instead of printing, you can log the title to a file or database\n",
    "        time.sleep(interval)\n",
    "\n",
    "# Example usage\n",
    "log_active_window_periodically(15)  # Log every 15 seconds\n"
   ]
  },
  {
   "cell_type": "code",
   "execution_count": 1,
   "metadata": {},
   "outputs": [],
   "source": [
    "def split_sessions(data):\n",
    "    sessions = []\n",
    "    current_session = []\n",
    "    focus_level = None\n",
    "    \n",
    "    for item in data:\n",
    "        if item['type'] == 'focus_level':\n",
    "            # End of a session, so store it along with its focus level\n",
    "            if current_session:  # Only add if there are events in the session\n",
    "                sessions.append({'x': current_session, 'y': item['data']['level']})\n",
    "            # Reset for the next session\n",
    "            current_session = []\n",
    "        else:\n",
    "            # Accumulate events for the current session\n",
    "            current_session.append(item)\n",
    "    \n",
    "    # Handle any events that might be left if the last item wasn't a focus level\n",
    "    # Assuming the last focus level applies to any remaining events\n",
    "    if current_session and focus_level is not None:\n",
    "        sessions.append({'x': current_session, 'y': focus_level})\n",
    "    \n",
    "    return sessions\n"
   ]
  },
  {
   "cell_type": "code",
   "execution_count": 3,
   "metadata": {},
   "outputs": [],
   "source": [
    "import json\n",
    "#load data\n",
    "with open('activity_log.json') as f:\n",
    "    data = json.load(f)"
   ]
  },
  {
   "cell_type": "code",
   "execution_count": 4,
   "metadata": {},
   "outputs": [
    {
     "data": {
      "text/plain": [
       "[{'x': [{'timestamp': '2024-03-05T19:14:45.475625',\n",
       "    'type': 'active_window',\n",
       "    'data': {'title': 'Activity Monitor'}},\n",
       "   {'timestamp': '2024-03-05T19:14:46.237313',\n",
       "    'type': 'mouse_event',\n",
       "    'data': {'position': [1964, 0], 'button': 'Button.left'}},\n",
       "   {'timestamp': '2024-03-05T19:14:46.474435',\n",
       "    'type': 'mouse_movement',\n",
       "    'data': {'start_position': [405, 385], 'end_position': [1964, -1]}},\n",
       "   {'timestamp': '2024-03-05T19:14:46.476001',\n",
       "    'type': 'active_window',\n",
       "    'data': {'title': 'New Tab - Google Chrome'}},\n",
       "   {'timestamp': '2024-03-05T19:14:55.477637',\n",
       "    'type': 'keyboard_activity_session',\n",
       "    'data': {'start_time': '2024-03-05T19:14:48.451237',\n",
       "     'end_time': '2024-03-05T19:14:52.640661',\n",
       "     'key_strokes': 32}},\n",
       "   {'timestamp': '2024-03-05T19:15:02.529012',\n",
       "    'type': 'active_window',\n",
       "    'data': {'title': 'Focus Level'}}],\n",
       "  'y': 10},\n",
       " {'x': [{'timestamp': '2024-03-05T19:15:53.784537',\n",
       "    'type': 'active_window',\n",
       "    'data': {'title': 'Activity Monitor'}},\n",
       "   {'timestamp': '2024-03-05T19:15:54.437396',\n",
       "    'type': 'mouse_event',\n",
       "    'data': {'position': [1652, 45], 'button': 'Button.left'}},\n",
       "   {'timestamp': '2024-03-05T19:15:54.782459',\n",
       "    'type': 'mouse_movement',\n",
       "    'data': {'start_position': [246, 233], 'end_position': [1652, 45]}},\n",
       "   {'timestamp': '2024-03-05T19:15:54.785033',\n",
       "    'type': 'active_window',\n",
       "    'data': {'title': 'New Tab - Google Chrome'}},\n",
       "   {'timestamp': '2024-03-05T19:16:04.785945',\n",
       "    'type': 'keyboard_activity_session',\n",
       "    'data': {'start_time': '2024-03-05T19:15:56.013188',\n",
       "     'end_time': '2024-03-05T19:16:01.824761',\n",
       "     'key_strokes': 41}}],\n",
       "  'y': 10}]"
      ]
     },
     "execution_count": 4,
     "metadata": {},
     "output_type": "execute_result"
    }
   ],
   "source": [
    "split_sessions(data)"
   ]
  }
 ],
 "metadata": {
  "kernelspec": {
   "display_name": "Python 3",
   "language": "python",
   "name": "python3"
  },
  "language_info": {
   "codemirror_mode": {
    "name": "ipython",
    "version": 3
   },
   "file_extension": ".py",
   "mimetype": "text/x-python",
   "name": "python",
   "nbconvert_exporter": "python",
   "pygments_lexer": "ipython3",
   "version": "3.10.13"
  }
 },
 "nbformat": 4,
 "nbformat_minor": 2
}
